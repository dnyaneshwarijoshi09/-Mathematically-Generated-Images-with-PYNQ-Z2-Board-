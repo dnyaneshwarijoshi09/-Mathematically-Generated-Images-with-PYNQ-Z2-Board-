{
 "cells": [
  {
   "cell_type": "code",
   "execution_count": null,
   "id": "8148cf07",
   "metadata": {},
   "outputs": [
    {
     "data": {
      "image/png": "[encoded data removed]"
     },
     "execution_count": 1,
     "metadata": {},
     "output_type": "execute_result"
    }
   ],
   "source": [
    "# Static fractal tree image for GitHub preview\n",
    "# Auto-generated\n",
    "from IPython.display import Image as IPyImage\n",
    "IPyImage(filename='fractal_tree.png')"
   ]
  },
  {
   "cell_type": "code",
   "execution_count": null,
   "id": "efd74d8f",
   "metadata": {},
   "outputs": [],
   "source": [
    "\n",
    "# =========================================\n",
    "# Fractal Tree Generator (GitHub + Colab)\n",
    "# =========================================\n",
    "\n",
    "# 1. Install ipywidgets (only if in Colab)\n",
    "try:\n",
    "    from google.colab import output\n",
    "    !pip install ipywidgets\n",
    "    output.enable_custom_widget_manager()\n",
    "except ImportError:\n",
    "    pass  # Not in Colab, skip\n",
    "\n",
    "# 2. Imports\n",
    "import colorsys\n",
    "from math import radians, cos, sin\n",
    "from PIL import Image as IM, ImageDraw\n",
    "from IPython.display import display\n",
    "from ipywidgets import widgets, interact\n",
    "\n",
    "# 3. Recursive tree drawing\n",
    "def generate_tree(x_start, y_start, angle_deg, depth, depth_max, branch_angle, branch_length):\n",
    "    if depth <= 0:\n",
    "        return\n",
    "\n",
    "    x_end = x_start + cos(radians(angle_deg)) * branch_length * depth\n",
    "    y_end = y_start + sin(radians(angle_deg)) * branch_length * depth\n",
    "\n",
    "    hue_val = float(depth) / depth_max\n",
    "    r, g, b = colorsys.hsv_to_rgb(hue_val, 1.0, 1.0)\n",
    "    R, G, B = int(r * 255), int(g * 255), int(b * 255)\n",
    "\n",
    "    canvas.line([x_start, y_start, x_end, y_end], (R, G, B), width=max(1, depth))\n",
    "\n",
    "    # Recursively draw left and right branches\n",
    "    generate_tree(x_end, y_end, angle_deg - branch_angle, depth - 1, depth_max, branch_angle, branch_length)\n",
    "    generate_tree(x_end, y_end, angle_deg + branch_angle, depth - 1, depth_max, branch_angle, branch_length)\n",
    "\n",
    "# 4. Refresh function\n",
    "def refresh_tree(depth_val, spread_val):\n",
    "    branch_len = 7\n",
    "    canvas.rectangle((0, 0, img_width, img_height), fill=(0, 0, 0))\n",
    "    generate_tree(img_width / 2, img_height * 0.9, -90, depth_val, depth_val, spread_val, branch_len)\n",
    "    img.save(\"fractal_tree.png\", \"PNG\")  # Save for GitHub preview\n",
    "    display(IM.open(\"fractal_tree.png\"))\n",
    "\n",
    "# 5. Setup canvas\n",
    "img_width, img_height = 600, 480\n",
    "img = IM.new(\"RGB\", (img_width, img_height))\n",
    "canvas = ImageDraw.Draw(img)\n",
    "\n",
    "# 6. Draw default tree (so GitHub shows it in static output)\n",
    "refresh_tree(8, 30)  # depth=8, spread=30 degrees\n",
    "\n",
    "# 7. Interactive sliders (for Colab/Jupyter)\n",
    "depth_slider = widgets.IntSlider(min=1, max=10, step=1, value=8, description=\"Depth\")\n",
    "spread_slider = widgets.IntSlider(min=0, max=45, step=1, value=30, description=\"Spread\")\n",
    "interact(refresh_tree, depth_val=depth_slider, spread_val=spread_slider)\n"
   ]
  }
 ],
 "metadata": {},
 "nbformat": 4,
 "nbformat_minor": 5
}
